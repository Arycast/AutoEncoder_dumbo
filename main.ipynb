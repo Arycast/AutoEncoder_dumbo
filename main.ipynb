{
 "cells": [
  {
   "cell_type": "code",
   "execution_count": 1,
   "metadata": {},
   "outputs": [
    {
     "name": "stdout",
     "output_type": "stream",
     "text": [
      "[0.010159986605679107, 0.010159986605679107, 0.010159986605679107, 0.010159986605679107, 0.9898400133943209, 0.010159986605679107, 0.010159986605679107, 0.010159986605679107, 0.010159986605679107]\n"
     ]
    },
    {
     "data": {
      "text/plain": [
       "[<matplotlib.lines.Line2D at 0x181ec9d7c10>]"
      ]
     },
     "execution_count": 1,
     "metadata": {},
     "output_type": "execute_result"
    },
    {
     "data": {
      "image/png": "[encoded data removed]",
      "text/plain": [
       "<Figure size 432x288 with 1 Axes>"
      ]
     },
     "metadata": {
      "needs_background": "light"
     },
     "output_type": "display_data"
    }
   ],
   "source": [
    "import math\n",
    "import matplotlib.pyplot as plt\n",
    "\n",
    "#========================global variable===========================\n",
    "data_in = [0,0,0,0,1,0,0,0,0] #input data (O as example)\n",
    "data_out = [0,0,0,0,0,0,0,0,0] #output data\n",
    "latent = [0,0] #latent space data\n",
    "temporary_latent = [0,0] #temporary variable for latent\n",
    "weight = [[0,0,0,0,0,0,0,0,0,0],[0,0,0,0,0,0,0,0,0],[0,0,0,0,0,0,0,0,0],[0,0,0,0,0,0,0,0,0]]#weight parameter for both encoder and decoder\n",
    "#first and second index are for encoder side while third and fourth index are for decoder side\n",
    "bias= [0,0] #bias parameter\n",
    "bias_output = [0,0,0,0,0,0,0,0,0,0] #output bias parameter\n",
    "\n",
    " #calculating output error\n",
    "error_output_layer = [0,0,0,0,0,0,0,0,0]\n",
    "error_hidden_layer = [0,0]\n",
    "error_differential_output_layer = [[0,0,0,0,0,0,0,0,0],[0,0,0,0,0,0,0,0,0]]\n",
    "error_differential_input_weight = [[0,0,0,0,0,0,0,0,0],[0,0,0,0,0,0,0,0,0]]\n",
    "error_differential_bias = [0,0]\n",
    "error_differential_bias_output = [0,0,0,0,0,0,0,0,0]\n",
    "\n",
    "#scaler\n",
    "miu = 1\n",
    "#training related variable\n",
    "training_iteration = 100\n",
    "error_history =[]\n",
    "weight_history =[]\n",
    "temporary_error_history = 0\n",
    "x_scale = []\n",
    "#==================function definition==================\n",
    "\n",
    "def sigmoid (x):\n",
    "  return(1/(1+math.exp(-x)))\n",
    "\n",
    "def ReLu (x):\n",
    "  if (x>0):\n",
    "    return x\n",
    "  else : return 0\n",
    "\n",
    "def gradient (x):\n",
    "  return (1-sigmoid(x))*sigmoid(x)\n",
    "\n",
    "def foward_propagation():\n",
    "  #foward propagation\n",
    "  loop_iteration = 9\n",
    "  for iteration in range (loop_iteration) :\n",
    "    latent[0] = latent[0]+ data_in[iteration]*weight[0][iteration]\n",
    "    latent[1] = latent[1]+ data_in[iteration]*weight[1][iteration]\n",
    "\n",
    "  latent[0] = latent[0]+bias[0]\n",
    "  latent[1] = latent[1]+bias[1]\n",
    "\n",
    "  temporary_latent = latent\n",
    "  #passing ReLu function(hidden layer)\n",
    "  latent[0] = ReLu(latent[0])\n",
    "  latent[1] = ReLu(latent[1])\n",
    "\n",
    "  for output_iteration in range(loop_iteration):\n",
    "    data_out[output_iteration] = latent[0]*weight[2][output_iteration] + latent[1]*weight[3][output_iteration]\n",
    "\n",
    "  for final_out in range(loop_iteration):\n",
    "    data_out[final_out]=sigmoid(data_out[final_out]+bias_output[final_out])\n",
    "\n",
    "def backward_propagation():\n",
    "  #backward propagation\n",
    "  loop_iteration = 9\n",
    "\n",
    "  for i in range(loop_iteration):\n",
    "    error_output_layer[i] = -1*data_in[i]*(1-data_out[i])+(1-data_in[i])*data_out[i]\n",
    "\n",
    "  for i in range(loop_iteration):\n",
    "    error_differential_output_layer[0][i] = error_output_layer[i]*latent[0]\n",
    "    error_differential_output_layer[1][i] = error_output_layer[i]*latent[1]  \n",
    "\n",
    "  for i in range(loop_iteration):\n",
    "    error_hidden_layer[0] = error_output_layer[i]*weight[2][i]*gradient(temporary_latent[0]) + error_hidden_layer[0]\n",
    "    error_hidden_layer[1] = error_output_layer[i]*weight[3][i]*gradient(temporary_latent[1]) + error_hidden_layer[0]\n",
    "\n",
    "  for i in range(loop_iteration):\n",
    "    error_differential_input_weight[0][i] = error_hidden_layer[0]*data_in[i]\n",
    "    error_differential_input_weight[1][i] = error_hidden_layer[1]*data_in[i]\n",
    "\n",
    "  error_differential_bias = error_hidden_layer\n",
    "  error_differential_bias_output = error_output_layer\n",
    "\n",
    "  #updating weight and bias value\n",
    "  for update in range (9): #updating weight\n",
    "    weight[2][update] = weight[2][update] - miu*error_differential_output_layer[0][update]\n",
    "    weight[3][update] = weight[3][update] - miu*error_differential_output_layer[1][update]\n",
    "    weight[0][update] = weight[0][update] - miu*error_differential_input_weight[0][update]\n",
    "    weight[1][update] = weight[1][update] - miu*error_differential_input_weight[1][update]\n",
    "\n",
    "  #updating both output bias and hidden layer bias\n",
    "  for update in range(9): #updating output bias\n",
    "    bias_output[update] = bias_output[update] - miu*error_differential_bias_output[update]\n",
    "\n",
    "\n",
    "  #updating hidden layer bias\n",
    "  bias[0] = bias[0] - miu*error_differential_bias[0]\n",
    "  bias[1] = bias[1] - miu*error_differential_bias[1]\n",
    "\n",
    "def cross_entropy_error(data_in,data_out):\n",
    "  accumulator = 0\n",
    "  for i in range (9):\n",
    "    accumulator = accumulator + (data_in[i]*math.log(data_out[i],10)+((1-data_in[i])*math.log((1-data_out[i]),10)))\n",
    "  accumulator = -(accumulator/9)\n",
    "  return accumulator\n",
    "\n",
    "\n",
    "#=============autoencoder start==================\n",
    "\n",
    "for iteration in range(training_iteration):\n",
    "  foward_propagation()\n",
    "  backward_propagation()\n",
    "  #error log\n",
    "  x_scale.append(iteration)\n",
    "  weight_history.append(data_out[0])\n",
    "  temporary_error_history = cross_entropy_error(data_in,data_out)\n",
    "  error_history.append((math.log(temporary_error_history,10)))\n",
    "\n",
    "data_out\n",
    "plt.plot(x_scale,error_history, color=\"red\")\n",
    "#plt.show()\n"
   ]
  }
 ],
 "metadata": {
  "kernelspec": {
   "display_name": "Python 3",
   "language": "python",
   "name": "python3"
  },
  "language_info": {
   "name": "python",
   "version": "3.10.0"
  }
 },
 "nbformat": 4,
 "nbformat_minor": 2
}
